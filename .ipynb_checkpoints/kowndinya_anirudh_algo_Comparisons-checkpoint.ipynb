{
 "cells": [
  {
   "cell_type": "code",
   "execution_count": 6,
   "metadata": {
    "ExecuteTime": {
     "end_time": "2022-10-16T02:08:45.028119Z",
     "start_time": "2022-10-16T02:08:44.996890Z"
    }
   },
   "outputs": [],
   "source": [
    "random_maze_ids = [2, 4, 6, 9, 12, 15, 17, 18, 20, 21, 22, 27, 28, 29, 30, 34, 39, 40, 44, 49, 50, 52, 54, 55, 61, 62, 65, 68, 69, 72, 77, 83, 85, 86, 88, 89, 97, 99, 1, 3, 5, 24, 8, 10, 11, 13, 14, 16, 19, 23]\n",
    "\n",
    "minG_fwd = [2.0648369789123535, 1665885130.7537737, 4.578464508056641, 1665885132.2069552, 6.307547092437744, 1665885134.6385822, 7.7094573974609375, 1665885137.95438, 9.006637811660767, 1665885139.729197, 11.223569631576538, 1665885141.5993204, 12.514334440231323, 1665885143.1338308, 14.110718011856079, 1665885145.1984503, 15.638420581817627, 1665885147.3980646, 17.475374221801758, 1665885149.1871703, 19.09868812561035, 1665885150.9028714, 20.991536378860474, 1665885152.9736893, 22.474210500717163, 1665885154.0997655, 23.660106897354126, 1665885156.5875041, 25.570926666259766, 1665885158.9106925, 27.485451221466064, 1665885161.5183377, 29.531705617904663, 1665885163.5427363, 31.490046739578247, 1665885164.9945672, 33.06395125389099, 1665885166.9012349, 35.0422420501709, 1665885169.2650402, 35.07786703109741, 1665885169.4719942, 37.17139291763306, 1665885171.53939, 37.209357023239136, 1665885173.4240677, 38.09474468231201, 1665885175.1720352, 38.12868523597717, 1665885176.7813714]\n",
    "maxG_fwd = [ 0.17453408241271973, 1665884032.5359735, 0.43184542655944824, 1665884032.7194827, 0.5834722518920898, 1665884032.9199138, 0.7450718879699707, 1665884033.1642299, 0.9106290340423584, 1665884033.3337765, 1.0752272605895996, 1665884033.521236, 1.2078731060028076, 1665884033.7047756, 1.4352669715881348, 1665884033.861323, 1.686596393585205, 1665884034.053808, 1.8791193962097168, 1665884034.1814277, 2.0237667560577393, 1665884034.325011, 2.3100006580352783, 1665884034.4776032, 2.4685773849487305, 1665884034.601272, 2.6182079315185547, 1665884034.841598, 2.7817704677581787, 1665884035.0071864, 2.9861929416656494, 1665884035.1896973, 3.181670665740967, 1665884035.443054, 3.374128580093384, 1665884035.6076078, 3.5427088737487793, 1665884035.7432446, 3.859829902648926, 1665884035.9247591, 3.8738253116607666, 1665884035.9467075, 4.131128549575806, 1665884036.2299495, 4.1450910568237305, 1665884036.6039498, 4.224877119064331, 1665884036.8632593, 4.23784327507019, 1665884037.0617247]\n",
    "\n",
    "minG_bwd = [3.842654228210449, 1665885397.2407413, 8.731611967086792, 1665885399.9965737, 14.147656679153442, 1665885404.380634, 17.554836750030518, 1665885408.5245166, 20.194647073745728, 1665885412.0915825, 22.822190761566162, 1665885416.0898874, 26.38650894165039, 1665885421.040488, 30.16125774383545, 1665885424.7105572, 33.295300006866455, 1665885428.661724, 36.645007610321045, 1665885431.7073596, 40.642192125320435, 1665885435.2550197, 46.09377694129944, 1665885439.5680032, 49.76643419265747, 1665885442.8435855, 53.68175935745239, 1665885447.2042909, 58.21142935752869, 1665885451.1114902, 62.49390363693237, 1665885456.47452, 67.30789232254028, 1665885462.4784186, 70.43510317802429, 1665885466.2643497, 72.87974238395691, 1665885471.0198743, 76.4140055179596, 1665885475.6218598, 76.61394572257996, 1665885476.0048714, 80.56751656532288, 1665885480.6892583, 84.03045105934143, 1665885485.1896737, 85.83157777786255, 1665885488.665584, 86.10790848731995, 1665885493.109554]\n",
    "maxG_bwd = [3.674888849258423, 1665884749.0394504, 8.508991003036499, 1665884751.839931, 13.866939544677734, 1665884756.1711195, 17.26581835746765, 1665884760.3224685, 19.983552932739258, 1665884764.0375335, 22.851881980895996, 1665884768.2453125, 26.66764497756958, 1665884772.937763, 30.49366855621338, 1665884776.529512, 33.55267333984375, 1665884780.4878922, 36.89573264122009, 1665884783.7003012, 40.9459342956543, 1665884787.1510432, 46.40433216094971, 1665884791.4276075, 50.046456813812256, 1665884794.6250558, 53.634748697280884, 1665884798.9115913, 58.43491220474243, 1665884803.0964005, 62.82758378982544, 1665884808.2824113, 67.60247492790222, 1665884813.963188, 70.66631197929382, 1665884817.5606444, 73.10382580757141, 1665884822.3069186, 76.92859673500061, 1665884826.605453, 77.11223196983337, 1665884826.9665182, 80.69661474227905, 1665884832.218472, 84.09056997299194, 1665884836.3104978, 85.80823063850403, 1665884839.7602718, 86.09845495223999, 1665884844.0252287]\n",
    "\n",
    "minG_adap = [5.424526214599609, 1665885823.9763465, 13.4336576461792, 1665885827.8382053, 18.002054929733276, 1665885833.189753, 22.64057469367981, 1665885837.7322693, 27.066317319869995, 1665885841.7014503, 30.44673800468445, 1665885845.8725133, 33.65864443778992, 1665885849.6769743, 37.98743271827698, 1665885854.3199706, 41.133726596832275, 1665885859.500432, 44.727426052093506, 1665885864.2168112, 50.35635542869568, 1665885867.9817295, 54.53717374801636, 1665885873.8959136, 59.11193776130676, 1665885876.2627928, 62.65446496009827, 1665885882.0742507, 68.6185154914856, 1665885885.933963, 71.93176484107971, 1665885891.5491412, 77.58065676689148, 1665885901.2980394, 81.29868650436401, 1665885906.4741988, 85.39273524284363, 1665885911.4572482, 92.78097820281982, 1665885914.9259715, 93.12405943870544, 1665885916.018052, 99.26164603233337, 1665885923.7946973, 99.6408576965332, 1665885929.107317, 103.77822947502136, 1665885932.6938443, 104.15522146224976, 1665885936.147898]\n",
    "maxG_adap = [0.3929169178009033, 1665883869.1061187, 5.03254771232605, 1665883870.7415204, 7.027247190475464, 1665883874.8096395, 9.180771589279175, 1665883877.3628106, 10.086315393447876, 1665883878.3224316, 11.560568571090698, 1665883879.4594257, 12.79926323890686, 1665883882.3629246, 16.32986092567444, 1665883883.9770255, 17.90767240524292, 1665883888.4989016, 19.438578605651855, 1665883889.921098, 21.274698972702026, 1665883891.5567222, 23.233432054519653, 1665883892.5859685, 28.070497274398804, 1665883893.4875572, 30.031286239624023, 1665883897.6389422, 30.85205888748169, 1665883900.26495, 32.94597840309143, 1665883902.6752787, 36.64010548591614, 1665883907.3531053, 39.30797052383423, 1665883911.1479511, 42.32886481285095, 1665883911.7258744, 44.37738347053528, 1665883913.0224073, 44.397329807281494, 1665883913.0543218, 45.25406193733215, 1665883916.0941694, 45.272013425827026, 1665883917.6579878, 45.55525612831116, 1665883919.446206, 45.57220959663391, 1665883920.186227]"
   ]
  },
  {
   "cell_type": "markdown",
   "metadata": {},
   "source": [
    "## Part2: Effect of Ties [15 points]"
   ]
  },
  {
   "cell_type": "markdown",
   "metadata": {},
   "source": [
    "### Forward A* minG vs maxG"
   ]
  },
  {
   "cell_type": "code",
   "execution_count": 5,
   "metadata": {
    "ExecuteTime": {
     "end_time": "2022-10-16T02:06:10.205889Z",
     "start_time": "2022-10-16T02:06:10.192924Z"
    }
   },
   "outputs": [
    {
     "name": "stdout",
     "output_type": "stream",
     "text": [
      "Forward A* minG vs maxG\n",
      "On average `maxG` was faster than `minG` by: 569 seconds\n",
      "===================================================================================================\n",
      "Random_Maze: 2 fwd was faster than adaptive by: 1 seconds\n",
      "Random_Maze: 4 fwd was faster than adaptive by: 1098 seconds\n",
      "Random_Maze: 6 fwd was faster than adaptive by: 4 seconds\n",
      "Random_Maze: 9 fwd was faster than adaptive by: 1099 seconds\n",
      "Random_Maze: 12 fwd was faster than adaptive by: 5 seconds\n",
      "Random_Maze: 15 fwd was faster than adaptive by: 1101 seconds\n",
      "Random_Maze: 17 fwd was faster than adaptive by: 6 seconds\n",
      "Random_Maze: 18 fwd was faster than adaptive by: 1104 seconds\n",
      "Random_Maze: 20 fwd was faster than adaptive by: 8 seconds\n",
      "Random_Maze: 21 fwd was faster than adaptive by: 1106 seconds\n",
      "Random_Maze: 22 fwd was faster than adaptive by: 10 seconds\n",
      "Random_Maze: 27 fwd was faster than adaptive by: 1108 seconds\n",
      "Random_Maze: 28 fwd was faster than adaptive by: 11 seconds\n",
      "Random_Maze: 29 fwd was faster than adaptive by: 1109 seconds\n",
      "Random_Maze: 30 fwd was faster than adaptive by: 12 seconds\n",
      "Random_Maze: 34 fwd was faster than adaptive by: 1111 seconds\n",
      "Random_Maze: 39 fwd was faster than adaptive by: 13 seconds\n",
      "Random_Maze: 40 fwd was faster than adaptive by: 1113 seconds\n",
      "Random_Maze: 44 fwd was faster than adaptive by: 15 seconds\n",
      "Random_Maze: 49 fwd was faster than adaptive by: 1115 seconds\n",
      "Random_Maze: 50 fwd was faster than adaptive by: 17 seconds\n",
      "Random_Maze: 52 fwd was faster than adaptive by: 1116 seconds\n",
      "Random_Maze: 54 fwd was faster than adaptive by: 18 seconds\n",
      "Random_Maze: 55 fwd was faster than adaptive by: 1118 seconds\n",
      "Random_Maze: 61 fwd was faster than adaptive by: 20 seconds\n",
      "Random_Maze: 62 fwd was faster than adaptive by: 1119 seconds\n",
      "Random_Maze: 65 fwd was faster than adaptive by: 21 seconds\n",
      "Random_Maze: 68 fwd was faster than adaptive by: 1121 seconds\n",
      "Random_Maze: 69 fwd was faster than adaptive by: 22 seconds\n",
      "Random_Maze: 72 fwd was faster than adaptive by: 1123 seconds\n",
      "Random_Maze: 77 fwd was faster than adaptive by: 24 seconds\n",
      "Random_Maze: 83 fwd was faster than adaptive by: 1126 seconds\n",
      "Random_Maze: 85 fwd was faster than adaptive by: 26 seconds\n",
      "Random_Maze: 86 fwd was faster than adaptive by: 1128 seconds\n",
      "Random_Maze: 88 fwd was faster than adaptive by: 28 seconds\n",
      "Random_Maze: 89 fwd was faster than adaptive by: 1129 seconds\n",
      "Random_Maze: 97 fwd was faster than adaptive by: 29 seconds\n",
      "Random_Maze: 99 fwd was faster than adaptive by: 1131 seconds\n",
      "Random_Maze: 1 fwd was faster than adaptive by: 31 seconds\n",
      "Random_Maze: 3 fwd was faster than adaptive by: 1133 seconds\n",
      "Random_Maze: 5 fwd was faster than adaptive by: 31 seconds\n",
      "Random_Maze: 24 fwd was faster than adaptive by: 1133 seconds\n",
      "Random_Maze: 8 fwd was faster than adaptive by: 33 seconds\n",
      "Random_Maze: 10 fwd was faster than adaptive by: 1135 seconds\n",
      "Random_Maze: 11 fwd was faster than adaptive by: 33 seconds\n",
      "Random_Maze: 13 fwd was faster than adaptive by: 1136 seconds\n",
      "Random_Maze: 14 fwd was faster than adaptive by: 33 seconds\n",
      "Random_Maze: 16 fwd was faster than adaptive by: 1138 seconds\n",
      "Random_Maze: 19 fwd was faster than adaptive by: 33 seconds\n",
      "Random_Maze: 23 fwd was faster than adaptive by: 1139 seconds\n"
     ]
    }
   ],
   "source": [
    "print('Forward A* minG vs maxG')\n",
    "print('On average `maxG` was faster than `minG` by:', int(sum(minG_fwd)/50-sum(maxG_fwd)/50), 'seconds')\n",
    "print('===================================================================================================')\n",
    "for x,y,z in zip(random_maze_ids, maxG_fwd, minG_fwd):\n",
    "    print(\"Random_Maze:\", x, 'fwd was faster than adaptive by:', int(z-y), 'seconds')\n"
   ]
  },
  {
   "cell_type": "markdown",
   "metadata": {},
   "source": []
  },
  {
   "cell_type": "code",
   "execution_count": 7,
   "metadata": {
    "ExecuteTime": {
     "end_time": "2022-10-16T02:09:21.433415Z",
     "start_time": "2022-10-16T02:09:21.423443Z"
    }
   },
   "outputs": [
    {
     "name": "stdout",
     "output_type": "stream",
     "text": [
      "Backward A* minG vs maxG\n",
      "On average `maxG` was faster than `minG` by: 324 seconds\n",
      "===================================================================================================\n",
      "Random_Maze: 2 fwd was faster than adaptive by: 0 seconds\n",
      "Random_Maze: 4 fwd was faster than adaptive by: 648 seconds\n",
      "Random_Maze: 6 fwd was faster than adaptive by: 0 seconds\n",
      "Random_Maze: 9 fwd was faster than adaptive by: 648 seconds\n",
      "Random_Maze: 12 fwd was faster than adaptive by: 0 seconds\n",
      "Random_Maze: 15 fwd was faster than adaptive by: 648 seconds\n",
      "Random_Maze: 17 fwd was faster than adaptive by: 0 seconds\n",
      "Random_Maze: 18 fwd was faster than adaptive by: 648 seconds\n",
      "Random_Maze: 20 fwd was faster than adaptive by: 0 seconds\n",
      "Random_Maze: 21 fwd was faster than adaptive by: 648 seconds\n",
      "Random_Maze: 22 fwd was faster than adaptive by: 0 seconds\n",
      "Random_Maze: 27 fwd was faster than adaptive by: 647 seconds\n",
      "Random_Maze: 28 fwd was faster than adaptive by: 0 seconds\n",
      "Random_Maze: 29 fwd was faster than adaptive by: 648 seconds\n",
      "Random_Maze: 30 fwd was faster than adaptive by: 0 seconds\n",
      "Random_Maze: 34 fwd was faster than adaptive by: 648 seconds\n",
      "Random_Maze: 39 fwd was faster than adaptive by: 0 seconds\n",
      "Random_Maze: 40 fwd was faster than adaptive by: 648 seconds\n",
      "Random_Maze: 44 fwd was faster than adaptive by: 0 seconds\n",
      "Random_Maze: 49 fwd was faster than adaptive by: 648 seconds\n",
      "Random_Maze: 50 fwd was faster than adaptive by: 0 seconds\n",
      "Random_Maze: 52 fwd was faster than adaptive by: 648 seconds\n",
      "Random_Maze: 54 fwd was faster than adaptive by: 0 seconds\n",
      "Random_Maze: 55 fwd was faster than adaptive by: 648 seconds\n",
      "Random_Maze: 61 fwd was faster than adaptive by: 0 seconds\n",
      "Random_Maze: 62 fwd was faster than adaptive by: 648 seconds\n",
      "Random_Maze: 65 fwd was faster than adaptive by: 0 seconds\n",
      "Random_Maze: 68 fwd was faster than adaptive by: 648 seconds\n",
      "Random_Maze: 69 fwd was faster than adaptive by: 0 seconds\n",
      "Random_Maze: 72 fwd was faster than adaptive by: 648 seconds\n",
      "Random_Maze: 77 fwd was faster than adaptive by: 0 seconds\n",
      "Random_Maze: 83 fwd was faster than adaptive by: 648 seconds\n",
      "Random_Maze: 85 fwd was faster than adaptive by: 0 seconds\n",
      "Random_Maze: 86 fwd was faster than adaptive by: 648 seconds\n",
      "Random_Maze: 88 fwd was faster than adaptive by: 0 seconds\n",
      "Random_Maze: 89 fwd was faster than adaptive by: 648 seconds\n",
      "Random_Maze: 97 fwd was faster than adaptive by: 0 seconds\n",
      "Random_Maze: 99 fwd was faster than adaptive by: 648 seconds\n",
      "Random_Maze: 1 fwd was faster than adaptive by: 0 seconds\n",
      "Random_Maze: 3 fwd was faster than adaptive by: 649 seconds\n",
      "Random_Maze: 5 fwd was faster than adaptive by: 0 seconds\n",
      "Random_Maze: 24 fwd was faster than adaptive by: 649 seconds\n",
      "Random_Maze: 8 fwd was faster than adaptive by: 0 seconds\n",
      "Random_Maze: 10 fwd was faster than adaptive by: 648 seconds\n",
      "Random_Maze: 11 fwd was faster than adaptive by: 0 seconds\n",
      "Random_Maze: 13 fwd was faster than adaptive by: 648 seconds\n",
      "Random_Maze: 14 fwd was faster than adaptive by: 0 seconds\n",
      "Random_Maze: 16 fwd was faster than adaptive by: 648 seconds\n",
      "Random_Maze: 19 fwd was faster than adaptive by: 0 seconds\n",
      "Random_Maze: 23 fwd was faster than adaptive by: 649 seconds\n"
     ]
    }
   ],
   "source": [
    "print('Backward A* minG vs maxG')\n",
    "print('On average `maxG` was faster than `minG` by:', int(sum(minG_bwd)/50-sum(maxG_bwd)/50), 'seconds')\n",
    "print('===================================================================================================')\n",
    "for x,y,z in zip(random_maze_ids, maxG_bwd, minG_bwd):\n",
    "    print(\"Random_Maze:\", x, 'fwd was faster than adaptive by:', int(z-y), 'seconds')\n"
   ]
  },
  {
   "cell_type": "code",
   "execution_count": 8,
   "metadata": {
    "ExecuteTime": {
     "end_time": "2022-10-16T02:11:37.707783Z",
     "start_time": "2022-10-16T02:11:37.697809Z"
    }
   },
   "outputs": [
    {
     "name": "stdout",
     "output_type": "stream",
     "text": [
      "Adaptive A* minG vs maxG\n",
      "On average `maxG` was faster than `minG` by: 1007 seconds\n",
      "===================================================================================================\n",
      "Random_Maze: 2 fwd was faster than adaptive by: 5 seconds\n",
      "Random_Maze: 4 fwd was faster than adaptive by: 1954 seconds\n",
      "Random_Maze: 6 fwd was faster than adaptive by: 8 seconds\n",
      "Random_Maze: 9 fwd was faster than adaptive by: 1957 seconds\n",
      "Random_Maze: 12 fwd was faster than adaptive by: 10 seconds\n",
      "Random_Maze: 15 fwd was faster than adaptive by: 1958 seconds\n",
      "Random_Maze: 17 fwd was faster than adaptive by: 13 seconds\n",
      "Random_Maze: 18 fwd was faster than adaptive by: 1960 seconds\n",
      "Random_Maze: 20 fwd was faster than adaptive by: 16 seconds\n",
      "Random_Maze: 21 fwd was faster than adaptive by: 1963 seconds\n",
      "Random_Maze: 22 fwd was faster than adaptive by: 18 seconds\n",
      "Random_Maze: 27 fwd was faster than adaptive by: 1966 seconds\n",
      "Random_Maze: 28 fwd was faster than adaptive by: 20 seconds\n",
      "Random_Maze: 29 fwd was faster than adaptive by: 1967 seconds\n",
      "Random_Maze: 30 fwd was faster than adaptive by: 21 seconds\n",
      "Random_Maze: 34 fwd was faster than adaptive by: 1970 seconds\n",
      "Random_Maze: 39 fwd was faster than adaptive by: 23 seconds\n",
      "Random_Maze: 40 fwd was faster than adaptive by: 1971 seconds\n",
      "Random_Maze: 44 fwd was faster than adaptive by: 25 seconds\n",
      "Random_Maze: 49 fwd was faster than adaptive by: 1974 seconds\n",
      "Random_Maze: 50 fwd was faster than adaptive by: 29 seconds\n",
      "Random_Maze: 52 fwd was faster than adaptive by: 1976 seconds\n",
      "Random_Maze: 54 fwd was faster than adaptive by: 31 seconds\n",
      "Random_Maze: 55 fwd was faster than adaptive by: 1981 seconds\n",
      "Random_Maze: 61 fwd was faster than adaptive by: 31 seconds\n",
      "Random_Maze: 62 fwd was faster than adaptive by: 1982 seconds\n",
      "Random_Maze: 65 fwd was faster than adaptive by: 32 seconds\n",
      "Random_Maze: 68 fwd was faster than adaptive by: 1984 seconds\n",
      "Random_Maze: 69 fwd was faster than adaptive by: 37 seconds\n",
      "Random_Maze: 72 fwd was faster than adaptive by: 1985 seconds\n",
      "Random_Maze: 77 fwd was faster than adaptive by: 38 seconds\n",
      "Random_Maze: 83 fwd was faster than adaptive by: 1988 seconds\n",
      "Random_Maze: 85 fwd was faster than adaptive by: 40 seconds\n",
      "Random_Maze: 86 fwd was faster than adaptive by: 1993 seconds\n",
      "Random_Maze: 88 fwd was faster than adaptive by: 41 seconds\n",
      "Random_Maze: 89 fwd was faster than adaptive by: 1995 seconds\n",
      "Random_Maze: 97 fwd was faster than adaptive by: 43 seconds\n",
      "Random_Maze: 99 fwd was faster than adaptive by: 1999 seconds\n",
      "Random_Maze: 1 fwd was faster than adaptive by: 48 seconds\n",
      "Random_Maze: 3 fwd was faster than adaptive by: 2001 seconds\n",
      "Random_Maze: 5 fwd was faster than adaptive by: 48 seconds\n",
      "Random_Maze: 24 fwd was faster than adaptive by: 2002 seconds\n",
      "Random_Maze: 8 fwd was faster than adaptive by: 54 seconds\n",
      "Random_Maze: 10 fwd was faster than adaptive by: 2007 seconds\n",
      "Random_Maze: 11 fwd was faster than adaptive by: 54 seconds\n",
      "Random_Maze: 13 fwd was faster than adaptive by: 2011 seconds\n",
      "Random_Maze: 14 fwd was faster than adaptive by: 58 seconds\n",
      "Random_Maze: 16 fwd was faster than adaptive by: 2013 seconds\n",
      "Random_Maze: 19 fwd was faster than adaptive by: 58 seconds\n",
      "Random_Maze: 23 fwd was faster than adaptive by: 2015 seconds\n"
     ]
    }
   ],
   "source": [
    "print('Adaptive A* minG vs maxG')\n",
    "print('On average `maxG` was faster than `minG` by:', int(sum(minG_adap)/50-sum(maxG_adap)/50), 'seconds')\n",
    "print('===================================================================================================')\n",
    "for x,y,z in zip(random_maze_ids, maxG_adap, minG_adap):\n",
    "    print(\"Random_Maze:\", x, 'fwd was faster than adaptive by:', int(z-y), 'seconds')\n"
   ]
  },
  {
   "cell_type": "code",
   "execution_count": null,
   "metadata": {},
   "outputs": [],
   "source": []
  }
 ],
 "metadata": {
  "kernelspec": {
   "display_name": "Python 3",
   "language": "python",
   "name": "python3"
  },
  "language_info": {
   "codemirror_mode": {
    "name": "ipython",
    "version": 3
   },
   "file_extension": ".py",
   "mimetype": "text/x-python",
   "name": "python",
   "nbconvert_exporter": "python",
   "pygments_lexer": "ipython3",
   "version": "3.7.4"
  },
  "toc": {
   "base_numbering": 1,
   "nav_menu": {},
   "number_sections": true,
   "sideBar": true,
   "skip_h1_title": false,
   "title_cell": "Table of Contents",
   "title_sidebar": "Contents",
   "toc_cell": false,
   "toc_position": {},
   "toc_section_display": true,
   "toc_window_display": false
  },
  "varInspector": {
   "cols": {
    "lenName": 16,
    "lenType": 16,
    "lenVar": 40
   },
   "kernels_config": {
    "python": {
     "delete_cmd_postfix": "",
     "delete_cmd_prefix": "del ",
     "library": "var_list.py",
     "varRefreshCmd": "print(var_dic_list())"
    },
    "r": {
     "delete_cmd_postfix": ") ",
     "delete_cmd_prefix": "rm(",
     "library": "var_list.r",
     "varRefreshCmd": "cat(var_dic_list()) "
    }
   },
   "types_to_exclude": [
    "module",
    "function",
    "builtin_function_or_method",
    "instance",
    "_Feature"
   ],
   "window_display": false
  }
 },
 "nbformat": 4,
 "nbformat_minor": 2
}
